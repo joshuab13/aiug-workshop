{
 "cells": [
  {
   "cell_type": "markdown",
   "metadata": {},
   "source": [
    "### Prebuilt react agent with search tool and memory"
   ]
  },
  {
   "cell_type": "code",
   "execution_count": 1,
   "metadata": {},
   "outputs": [
    {
     "name": "stderr",
     "output_type": "stream",
     "text": [
      "/Users/rickchakra/Projects/aiug_workshop/venv/lib/python3.9/site-packages/urllib3/__init__.py:35: NotOpenSSLWarning: urllib3 v2 only supports OpenSSL 1.1.1+, currently the 'ssl' module is compiled with 'LibreSSL 2.8.3'. See: https://github.com/urllib3/urllib3/issues/3020\n",
      "  warnings.warn(\n"
     ]
    }
   ],
   "source": [
    "# Import relevant functionality\n",
    "from langchain_openai import ChatOpenAI\n",
    "from langchain_community.tools.tavily_search import TavilySearchResults\n",
    "from langchain_core.messages import HumanMessage\n",
    "from langgraph.checkpoint.sqlite import SqliteSaver\n",
    "from langchain_core.messages import BaseMessage\n",
    "from langgraph.prebuilt import create_react_agent"
   ]
  },
  {
   "cell_type": "code",
   "execution_count": 2,
   "metadata": {},
   "outputs": [],
   "source": [
    "# Create the agent with memory\n",
    "memory = SqliteSaver.from_conn_string(\":memory:\")\n",
    "model = ChatOpenAI(model='gpt-4o')\n",
    "search = TavilySearchResults(max_results=2)\n",
    "tools = [search]\n",
    "agent_executor = create_react_agent(model, tools, checkpointer=memory)"
   ]
  },
  {
   "cell_type": "code",
   "execution_count": 3,
   "metadata": {},
   "outputs": [],
   "source": [
    "# Use the agent with specific thread id (memory)\n",
    "config = {\"configurable\": {\"thread_id\": \"user2\"}}"
   ]
  },
  {
   "cell_type": "code",
   "execution_count": 4,
   "metadata": {},
   "outputs": [
    {
     "name": "stdout",
     "output_type": "stream",
     "text": [
      "{'agent': {'messages': [AIMessage(content='', additional_kwargs={'tool_calls': [{'id': 'call_xZBlltZ83Br36xREAorGybKI', 'function': {'arguments': '{\"query\":\"Los Angeles weather today\"}', 'name': 'tavily_search_results_json'}, 'type': 'function'}]}, response_metadata={'token_usage': {'completion_tokens': 21, 'prompt_tokens': 87, 'total_tokens': 108}, 'model_name': 'gpt-4o-2024-05-13', 'system_fingerprint': 'fp_400f27fa1f', 'finish_reason': 'tool_calls', 'logprobs': None}, id='run-fe1ac473-8b59-44c0-8d05-14051f5bf11a-0', tool_calls=[{'name': 'tavily_search_results_json', 'args': {'query': 'Los Angeles weather today'}, 'id': 'call_xZBlltZ83Br36xREAorGybKI', 'type': 'tool_call'}], usage_metadata={'input_tokens': 87, 'output_tokens': 21, 'total_tokens': 108})]}}\n",
      "Assistant: \n",
      "{'tools': {'messages': [ToolMessage(content='[{\"url\": \"https://www.weatherapi.com/\", \"content\": \"{\\'location\\': {\\'name\\': \\'Los Angeles\\', \\'region\\': \\'California\\', \\'country\\': \\'United States of America\\', \\'lat\\': 34.05, \\'lon\\': -118.24, \\'tz_id\\': \\'America/Los_Angeles\\', \\'localtime_epoch\\': 1721733429, \\'localtime\\': \\'2024-07-23 4:17\\'}, \\'current\\': {\\'last_updated_epoch\\': 1721733300, \\'last_updated\\': \\'2024-07-23 04:15\\', \\'temp_c\\': 23.6, \\'temp_f\\': 74.6, \\'is_day\\': 0, \\'condition\\': {\\'text\\': \\'Clear\\', \\'icon\\': \\'//cdn.weatherapi.com/weather/64x64/night/113.png\\', \\'code\\': 1000}, \\'wind_mph\\': 4.5, \\'wind_kph\\': 7.2, \\'wind_degree\\': 228, \\'wind_dir\\': \\'SW\\', \\'pressure_mb\\': 1010.0, \\'pressure_in\\': 29.82, \\'precip_mm\\': 0.0, \\'precip_in\\': 0.0, \\'humidity\\': 57, \\'cloud\\': 12, \\'feelslike_c\\': 25.2, \\'feelslike_f\\': 77.4, \\'windchill_c\\': 23.6, \\'windchill_f\\': 74.6, \\'heatindex_c\\': 25.2, \\'heatindex_f\\': 77.4, \\'dewpoint_c\\': 14.8, \\'dewpoint_f\\': 58.7, \\'vis_km\\': 10.0, \\'vis_miles\\': 6.0, \\'uv\\': 1.0, \\'gust_mph\\': 6.4, \\'gust_kph\\': 10.4}}\"}, {\"url\": \"https://www.timeanddate.com/weather/usa/los-angeles/historic?month=7&year=2024\", \"content\": \"Past Weather in Los Angeles, California, USA \\\\u2014 July 2024. Time/General; Weather . Weather Today/Tomorrow ; Hour-by-Hour Forecast ; 14 Day Forecast ; Yesterday/Past Weather; Climate (Averages) ... (Weather station: Los Angeles Los Angeles International Airport, USA). See more current weather.\"}]', name='tavily_search_results_json', tool_call_id='call_xZBlltZ83Br36xREAorGybKI')]}}\n",
      "Assistant: [{\"url\": \"https://www.weatherapi.com/\", \"content\": \"{'location': {'name': 'Los Angeles', 'region': 'California', 'country': 'United States of America', 'lat': 34.05, 'lon': -118.24, 'tz_id': 'America/Los_Angeles', 'localtime_epoch': 1721733429, 'localtime': '2024-07-23 4:17'}, 'current': {'last_updated_epoch': 1721733300, 'last_updated': '2024-07-23 04:15', 'temp_c': 23.6, 'temp_f': 74.6, 'is_day': 0, 'condition': {'text': 'Clear', 'icon': '//cdn.weatherapi.com/weather/64x64/night/113.png', 'code': 1000}, 'wind_mph': 4.5, 'wind_kph': 7.2, 'wind_degree': 228, 'wind_dir': 'SW', 'pressure_mb': 1010.0, 'pressure_in': 29.82, 'precip_mm': 0.0, 'precip_in': 0.0, 'humidity': 57, 'cloud': 12, 'feelslike_c': 25.2, 'feelslike_f': 77.4, 'windchill_c': 23.6, 'windchill_f': 74.6, 'heatindex_c': 25.2, 'heatindex_f': 77.4, 'dewpoint_c': 14.8, 'dewpoint_f': 58.7, 'vis_km': 10.0, 'vis_miles': 6.0, 'uv': 1.0, 'gust_mph': 6.4, 'gust_kph': 10.4}}\"}, {\"url\": \"https://www.timeanddate.com/weather/usa/los-angeles/historic?month=7&year=2024\", \"content\": \"Past Weather in Los Angeles, California, USA \\u2014 July 2024. Time/General; Weather . Weather Today/Tomorrow ; Hour-by-Hour Forecast ; 14 Day Forecast ; Yesterday/Past Weather; Climate (Averages) ... (Weather station: Los Angeles Los Angeles International Airport, USA). See more current weather.\"}]\n",
      "{'agent': {'messages': [AIMessage(content='As of the latest update, the weather in Los Angeles is as follows:\\n\\n- **Temperature:** 23.6°C (74.6°F)\\n- **Condition:** Clear\\n- **Wind:** 4.5 mph (7.2 kph) from the southwest\\n- **Humidity:** 57%\\n- **Visibility:** 10 km (6 miles)\\n- **UV Index:** 1 (Low)\\n\\nThe current feels-like temperature is approximately 25.2°C (77.4°F). There is no precipitation at the moment, and the wind gusts are around 6.4 mph (10.4 kph).', response_metadata={'token_usage': {'completion_tokens': 130, 'prompt_tokens': 628, 'total_tokens': 758}, 'model_name': 'gpt-4o-2024-05-13', 'system_fingerprint': 'fp_400f27fa1f', 'finish_reason': 'stop', 'logprobs': None}, id='run-5798f634-a5ee-40d8-a469-e8056ab34bdc-0', usage_metadata={'input_tokens': 628, 'output_tokens': 130, 'total_tokens': 758})]}}\n",
      "Assistant: As of the latest update, the weather in Los Angeles is as follows:\n",
      "\n",
      "- **Temperature:** 23.6°C (74.6°F)\n",
      "- **Condition:** Clear\n",
      "- **Wind:** 4.5 mph (7.2 kph) from the southwest\n",
      "- **Humidity:** 57%\n",
      "- **Visibility:** 10 km (6 miles)\n",
      "- **UV Index:** 1 (Low)\n",
      "\n",
      "The current feels-like temperature is approximately 25.2°C (77.4°F). There is no precipitation at the moment, and the wind gusts are around 6.4 mph (10.4 kph).\n",
      "Goodbye!\n"
     ]
    }
   ],
   "source": [
    "# pass in config and call agent_executor.stream to interact with the agent\n",
    "while True:\n",
    "    user_input = input(\"User: \")\n",
    "    if user_input.lower() in [\"quit\", \"exit\", \"q\"]:\n",
    "        print(\"Goodbye!\")\n",
    "        break\n",
    "    for event in agent_executor.stream({\"messages\": [(\"user\", user_input)]}, config):\n",
    "        print(event)\n",
    "        for value in event.values():\n",
    "            if isinstance(value[\"messages\"][-1], BaseMessage):\n",
    "                print(\"Assistant:\", value[\"messages\"][-1].content)"
   ]
  },
  {
   "cell_type": "code",
   "execution_count": 5,
   "metadata": {},
   "outputs": [
    {
     "data": {
      "text/plain": [
       "[HumanMessage(content='Hi', id='d848c185-b0dd-4a3a-bc24-17a739c63ac7'),\n",
       " AIMessage(content='Hello! How can I assist you today?', response_metadata={'token_usage': {'completion_tokens': 10, 'prompt_tokens': 80, 'total_tokens': 90}, 'model_name': 'gpt-4o-2024-05-13', 'system_fingerprint': 'fp_c4e5b6fa31', 'finish_reason': 'stop', 'logprobs': None}, id='run-5cde0d8f-fcee-4239-b7a3-eead114b2b56-0', usage_metadata={'input_tokens': 80, 'output_tokens': 10, 'total_tokens': 90}),\n",
       " HumanMessage(content='my name is Rick', id='ffaba971-a8ca-475f-82dc-5a03d56bddc7'),\n",
       " AIMessage(content='Nice to meet you, Rick! How can I help you today?', response_metadata={'token_usage': {'completion_tokens': 15, 'prompt_tokens': 101, 'total_tokens': 116}, 'model_name': 'gpt-4o-2024-05-13', 'system_fingerprint': 'fp_5e997b69d8', 'finish_reason': 'stop', 'logprobs': None}, id='run-30f85200-5a85-4136-941b-2e064ae5643d-0', usage_metadata={'input_tokens': 101, 'output_tokens': 15, 'total_tokens': 116}),\n",
       " HumanMessage(content=\"What's my name?\", id='a2916b41-3aa5-4b4f-bc08-c404c0e140e9'),\n",
       " AIMessage(content='Your name is Rick. How can I assist you further?', response_metadata={'token_usage': {'completion_tokens': 13, 'prompt_tokens': 127, 'total_tokens': 140}, 'model_name': 'gpt-4o-2024-05-13', 'system_fingerprint': 'fp_c4e5b6fa31', 'finish_reason': 'stop', 'logprobs': None}, id='run-3cea2bff-7cd4-4abd-957f-fdb5bfd18e98-0', usage_metadata={'input_tokens': 127, 'output_tokens': 13, 'total_tokens': 140})]"
      ]
     },
     "execution_count": 5,
     "metadata": {},
     "output_type": "execute_result"
    }
   ],
   "source": [
    "# check what's stored in memory\n",
    "agent_executor.get_state(config).values['messages']"
   ]
  },
  {
   "cell_type": "code",
   "execution_count": null,
   "metadata": {},
   "outputs": [],
   "source": []
  }
 ],
 "metadata": {
  "kernelspec": {
   "display_name": "venv",
   "language": "python",
   "name": "python3"
  },
  "language_info": {
   "codemirror_mode": {
    "name": "ipython",
    "version": 3
   },
   "file_extension": ".py",
   "mimetype": "text/x-python",
   "name": "python",
   "nbconvert_exporter": "python",
   "pygments_lexer": "ipython3",
   "version": "3.9.6"
  }
 },
 "nbformat": 4,
 "nbformat_minor": 2
}
