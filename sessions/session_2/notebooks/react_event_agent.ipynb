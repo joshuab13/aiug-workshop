{
 "cells": [
  {
   "cell_type": "code",
   "execution_count": 1,
   "metadata": {},
   "outputs": [
    {
     "name": "stderr",
     "output_type": "stream",
     "text": [
      "/Users/rickchakra/Projects/aiug_workshop/venv_new/lib/python3.9/site-packages/urllib3/__init__.py:35: NotOpenSSLWarning: urllib3 v2 only supports OpenSSL 1.1.1+, currently the 'ssl' module is compiled with 'LibreSSL 2.8.3'. See: https://github.com/urllib3/urllib3/issues/3020\n",
      "  warnings.warn(\n"
     ]
    }
   ],
   "source": [
    "# Import relevant functionality\n",
    "from langchain_openai import ChatOpenAI\n",
    "from langchain_community.tools.tavily_search import TavilySearchResults\n",
    "from langchain_core.messages import HumanMessage\n",
    "from langgraph.checkpoint.sqlite import SqliteSaver\n",
    "from langchain_core.messages import BaseMessage\n",
    "from langgraph.prebuilt import create_react_agent"
   ]
  },
  {
   "cell_type": "code",
   "execution_count": 2,
   "metadata": {},
   "outputs": [],
   "source": [
    "# Create the agent with memory\n",
    "memory = SqliteSaver.from_conn_string(\":memory:\")\n",
    "model = ChatOpenAI(model='gpt-4o')\n",
    "search = TavilySearchResults(max_results=2)\n",
    "tools = [search]\n",
    "agent_executor = create_react_agent(model, tools, checkpointer=memory)"
   ]
  },
  {
   "cell_type": "code",
   "execution_count": 3,
   "metadata": {},
   "outputs": [],
   "source": [
    "# Use the agent with specific thread id (memory)\n",
    "config = {\"configurable\": {\"thread_id\": \"user1\"}}"
   ]
  },
  {
   "cell_type": "code",
   "execution_count": 4,
   "metadata": {},
   "outputs": [
    {
     "name": "stdout",
     "output_type": "stream",
     "text": [
      "{'agent': {'messages': [AIMessage(content='Hello! How can I assist you today?', response_metadata={'token_usage': {'completion_tokens': 10, 'prompt_tokens': 80, 'total_tokens': 90}, 'model_name': 'gpt-4o-2024-05-13', 'system_fingerprint': 'fp_c4e5b6fa31', 'finish_reason': 'stop', 'logprobs': None}, id='run-5cde0d8f-fcee-4239-b7a3-eead114b2b56-0', usage_metadata={'input_tokens': 80, 'output_tokens': 10, 'total_tokens': 90})]}}\n",
      "Assistant: Hello! How can I assist you today?\n",
      "{'agent': {'messages': [AIMessage(content='Nice to meet you, Rick! How can I help you today?', response_metadata={'token_usage': {'completion_tokens': 15, 'prompt_tokens': 101, 'total_tokens': 116}, 'model_name': 'gpt-4o-2024-05-13', 'system_fingerprint': 'fp_5e997b69d8', 'finish_reason': 'stop', 'logprobs': None}, id='run-30f85200-5a85-4136-941b-2e064ae5643d-0', usage_metadata={'input_tokens': 101, 'output_tokens': 15, 'total_tokens': 116})]}}\n",
      "Assistant: Nice to meet you, Rick! How can I help you today?\n",
      "{'agent': {'messages': [AIMessage(content='Your name is Rick. How can I assist you further?', response_metadata={'token_usage': {'completion_tokens': 13, 'prompt_tokens': 127, 'total_tokens': 140}, 'model_name': 'gpt-4o-2024-05-13', 'system_fingerprint': 'fp_c4e5b6fa31', 'finish_reason': 'stop', 'logprobs': None}, id='run-3cea2bff-7cd4-4abd-957f-fdb5bfd18e98-0', usage_metadata={'input_tokens': 127, 'output_tokens': 13, 'total_tokens': 140})]}}\n",
      "Assistant: Your name is Rick. How can I assist you further?\n",
      "Goodbye!\n"
     ]
    }
   ],
   "source": [
    "# pass in config and call agent_executor.stream to interact with the agent\n",
    "while True:\n",
    "    user_input = input(\"User: \")\n",
    "    if user_input.lower() in [\"quit\", \"exit\", \"q\"]:\n",
    "        print(\"Goodbye!\")\n",
    "        break\n",
    "    for event in agent_executor.stream({\"messages\": [(\"user\", user_input)]}, config):\n",
    "        print(event)\n",
    "        for value in event.values():\n",
    "            if isinstance(value[\"messages\"][-1], BaseMessage):\n",
    "                print(\"Assistant:\", value[\"messages\"][-1].content)"
   ]
  },
  {
   "cell_type": "code",
   "execution_count": 5,
   "metadata": {},
   "outputs": [
    {
     "data": {
      "text/plain": [
       "[HumanMessage(content='Hi', id='d848c185-b0dd-4a3a-bc24-17a739c63ac7'),\n",
       " AIMessage(content='Hello! How can I assist you today?', response_metadata={'token_usage': {'completion_tokens': 10, 'prompt_tokens': 80, 'total_tokens': 90}, 'model_name': 'gpt-4o-2024-05-13', 'system_fingerprint': 'fp_c4e5b6fa31', 'finish_reason': 'stop', 'logprobs': None}, id='run-5cde0d8f-fcee-4239-b7a3-eead114b2b56-0', usage_metadata={'input_tokens': 80, 'output_tokens': 10, 'total_tokens': 90}),\n",
       " HumanMessage(content='my name is Rick', id='ffaba971-a8ca-475f-82dc-5a03d56bddc7'),\n",
       " AIMessage(content='Nice to meet you, Rick! How can I help you today?', response_metadata={'token_usage': {'completion_tokens': 15, 'prompt_tokens': 101, 'total_tokens': 116}, 'model_name': 'gpt-4o-2024-05-13', 'system_fingerprint': 'fp_5e997b69d8', 'finish_reason': 'stop', 'logprobs': None}, id='run-30f85200-5a85-4136-941b-2e064ae5643d-0', usage_metadata={'input_tokens': 101, 'output_tokens': 15, 'total_tokens': 116}),\n",
       " HumanMessage(content=\"What's my name?\", id='a2916b41-3aa5-4b4f-bc08-c404c0e140e9'),\n",
       " AIMessage(content='Your name is Rick. How can I assist you further?', response_metadata={'token_usage': {'completion_tokens': 13, 'prompt_tokens': 127, 'total_tokens': 140}, 'model_name': 'gpt-4o-2024-05-13', 'system_fingerprint': 'fp_c4e5b6fa31', 'finish_reason': 'stop', 'logprobs': None}, id='run-3cea2bff-7cd4-4abd-957f-fdb5bfd18e98-0', usage_metadata={'input_tokens': 127, 'output_tokens': 13, 'total_tokens': 140})]"
      ]
     },
     "execution_count": 5,
     "metadata": {},
     "output_type": "execute_result"
    }
   ],
   "source": [
    "# check what's stored in memory\n",
    "agent_executor.get_state(config).values['messages']"
   ]
  },
  {
   "cell_type": "code",
   "execution_count": null,
   "metadata": {},
   "outputs": [],
   "source": []
  }
 ],
 "metadata": {
  "kernelspec": {
   "display_name": "venv",
   "language": "python",
   "name": "python3"
  },
  "language_info": {
   "codemirror_mode": {
    "name": "ipython",
    "version": 3
   },
   "file_extension": ".py",
   "mimetype": "text/x-python",
   "name": "python",
   "nbconvert_exporter": "python",
   "pygments_lexer": "ipython3",
   "version": "3.9.6"
  }
 },
 "nbformat": 4,
 "nbformat_minor": 2
}
