{
 "cells": [
  {
   "cell_type": "markdown",
   "metadata": {},
   "source": [
    "### Tools"
   ]
  },
  {
   "cell_type": "code",
   "execution_count": 1,
   "metadata": {},
   "outputs": [
    {
     "name": "stdout",
     "output_type": "stream",
     "text": [
      "Requirement already satisfied: langchain-community in /Users/rickchakra/Projects/aiug_workshop/venv_new/lib/python3.9/site-packages (0.2.7)\n",
      "Collecting langchain-community\n",
      "  Downloading langchain_community-0.2.9-py3-none-any.whl.metadata (2.5 kB)\n",
      "Requirement already satisfied: langgraph in /Users/rickchakra/Projects/aiug_workshop/venv_new/lib/python3.9/site-packages (0.1.8)\n",
      "Collecting langgraph\n",
      "  Downloading langgraph-0.1.9-py3-none-any.whl.metadata (13 kB)\n",
      "Requirement already satisfied: langchain-openai in /Users/rickchakra/Projects/aiug_workshop/venv_new/lib/python3.9/site-packages (0.1.17)\n",
      "Requirement already satisfied: tavily-python in /Users/rickchakra/Projects/aiug_workshop/venv_new/lib/python3.9/site-packages (0.3.5)\n",
      "Requirement already satisfied: PyYAML>=5.3 in /Users/rickchakra/Projects/aiug_workshop/venv_new/lib/python3.9/site-packages (from langchain-community) (6.0.1)\n",
      "Requirement already satisfied: SQLAlchemy<3,>=1.4 in /Users/rickchakra/Projects/aiug_workshop/venv_new/lib/python3.9/site-packages (from langchain-community) (2.0.31)\n",
      "Requirement already satisfied: aiohttp<4.0.0,>=3.8.3 in /Users/rickchakra/Projects/aiug_workshop/venv_new/lib/python3.9/site-packages (from langchain-community) (3.9.5)\n",
      "Requirement already satisfied: dataclasses-json<0.7,>=0.5.7 in /Users/rickchakra/Projects/aiug_workshop/venv_new/lib/python3.9/site-packages (from langchain-community) (0.6.7)\n",
      "Requirement already satisfied: langchain<0.3.0,>=0.2.9 in /Users/rickchakra/Projects/aiug_workshop/venv_new/lib/python3.9/site-packages (from langchain-community) (0.2.9)\n",
      "Collecting langchain-core<0.3.0,>=0.2.22 (from langchain-community)\n",
      "  Downloading langchain_core-0.2.22-py3-none-any.whl.metadata (6.0 kB)\n",
      "Requirement already satisfied: langsmith<0.2.0,>=0.1.0 in /Users/rickchakra/Projects/aiug_workshop/venv_new/lib/python3.9/site-packages (from langchain-community) (0.1.90)\n",
      "Requirement already satisfied: numpy<2,>=1 in /Users/rickchakra/Projects/aiug_workshop/venv_new/lib/python3.9/site-packages (from langchain-community) (1.26.4)\n",
      "Requirement already satisfied: requests<3,>=2 in /Users/rickchakra/Projects/aiug_workshop/venv_new/lib/python3.9/site-packages (from langchain-community) (2.32.3)\n",
      "Requirement already satisfied: tenacity!=8.4.0,<9.0.0,>=8.1.0 in /Users/rickchakra/Projects/aiug_workshop/venv_new/lib/python3.9/site-packages (from langchain-community) (8.5.0)\n",
      "Requirement already satisfied: openai<2.0.0,>=1.32.0 in /Users/rickchakra/Projects/aiug_workshop/venv_new/lib/python3.9/site-packages (from langchain-openai) (1.35.14)\n",
      "Requirement already satisfied: tiktoken<1,>=0.7 in /Users/rickchakra/Projects/aiug_workshop/venv_new/lib/python3.9/site-packages (from langchain-openai) (0.7.0)\n",
      "Requirement already satisfied: httpx in /Users/rickchakra/Projects/aiug_workshop/venv_new/lib/python3.9/site-packages (from tavily-python) (0.27.0)\n",
      "Requirement already satisfied: aiosignal>=1.1.2 in /Users/rickchakra/Projects/aiug_workshop/venv_new/lib/python3.9/site-packages (from aiohttp<4.0.0,>=3.8.3->langchain-community) (1.3.1)\n",
      "Requirement already satisfied: attrs>=17.3.0 in /Users/rickchakra/Projects/aiug_workshop/venv_new/lib/python3.9/site-packages (from aiohttp<4.0.0,>=3.8.3->langchain-community) (23.2.0)\n",
      "Requirement already satisfied: frozenlist>=1.1.1 in /Users/rickchakra/Projects/aiug_workshop/venv_new/lib/python3.9/site-packages (from aiohttp<4.0.0,>=3.8.3->langchain-community) (1.4.1)\n",
      "Requirement already satisfied: multidict<7.0,>=4.5 in /Users/rickchakra/Projects/aiug_workshop/venv_new/lib/python3.9/site-packages (from aiohttp<4.0.0,>=3.8.3->langchain-community) (6.0.5)\n",
      "Requirement already satisfied: yarl<2.0,>=1.0 in /Users/rickchakra/Projects/aiug_workshop/venv_new/lib/python3.9/site-packages (from aiohttp<4.0.0,>=3.8.3->langchain-community) (1.9.4)\n",
      "Requirement already satisfied: async-timeout<5.0,>=4.0 in /Users/rickchakra/Projects/aiug_workshop/venv_new/lib/python3.9/site-packages (from aiohttp<4.0.0,>=3.8.3->langchain-community) (4.0.3)\n",
      "Requirement already satisfied: marshmallow<4.0.0,>=3.18.0 in /Users/rickchakra/Projects/aiug_workshop/venv_new/lib/python3.9/site-packages (from dataclasses-json<0.7,>=0.5.7->langchain-community) (3.21.3)\n",
      "Requirement already satisfied: typing-inspect<1,>=0.4.0 in /Users/rickchakra/Projects/aiug_workshop/venv_new/lib/python3.9/site-packages (from dataclasses-json<0.7,>=0.5.7->langchain-community) (0.9.0)\n",
      "Requirement already satisfied: langchain-text-splitters<0.3.0,>=0.2.0 in /Users/rickchakra/Projects/aiug_workshop/venv_new/lib/python3.9/site-packages (from langchain<0.3.0,>=0.2.9->langchain-community) (0.2.2)\n",
      "Requirement already satisfied: pydantic<3,>=1 in /Users/rickchakra/Projects/aiug_workshop/venv_new/lib/python3.9/site-packages (from langchain<0.3.0,>=0.2.9->langchain-community) (2.8.2)\n",
      "Requirement already satisfied: jsonpatch<2.0,>=1.33 in /Users/rickchakra/Projects/aiug_workshop/venv_new/lib/python3.9/site-packages (from langchain-core<0.3.0,>=0.2.22->langchain-community) (1.33)\n",
      "Requirement already satisfied: packaging<25,>=23.2 in /Users/rickchakra/Projects/aiug_workshop/venv_new/lib/python3.9/site-packages (from langchain-core<0.3.0,>=0.2.22->langchain-community) (24.1)\n",
      "Requirement already satisfied: orjson<4.0.0,>=3.9.14 in /Users/rickchakra/Projects/aiug_workshop/venv_new/lib/python3.9/site-packages (from langsmith<0.2.0,>=0.1.0->langchain-community) (3.10.6)\n",
      "Requirement already satisfied: anyio<5,>=3.5.0 in /Users/rickchakra/Projects/aiug_workshop/venv_new/lib/python3.9/site-packages (from openai<2.0.0,>=1.32.0->langchain-openai) (4.4.0)\n",
      "Requirement already satisfied: distro<2,>=1.7.0 in /Users/rickchakra/Projects/aiug_workshop/venv_new/lib/python3.9/site-packages (from openai<2.0.0,>=1.32.0->langchain-openai) (1.9.0)\n",
      "Requirement already satisfied: sniffio in /Users/rickchakra/Projects/aiug_workshop/venv_new/lib/python3.9/site-packages (from openai<2.0.0,>=1.32.0->langchain-openai) (1.3.1)\n",
      "Requirement already satisfied: tqdm>4 in /Users/rickchakra/Projects/aiug_workshop/venv_new/lib/python3.9/site-packages (from openai<2.0.0,>=1.32.0->langchain-openai) (4.66.4)\n",
      "Requirement already satisfied: typing-extensions<5,>=4.7 in /Users/rickchakra/Projects/aiug_workshop/venv_new/lib/python3.9/site-packages (from openai<2.0.0,>=1.32.0->langchain-openai) (4.12.2)\n",
      "Requirement already satisfied: certifi in /Users/rickchakra/Projects/aiug_workshop/venv_new/lib/python3.9/site-packages (from httpx->tavily-python) (2024.7.4)\n",
      "Requirement already satisfied: httpcore==1.* in /Users/rickchakra/Projects/aiug_workshop/venv_new/lib/python3.9/site-packages (from httpx->tavily-python) (1.0.5)\n",
      "Requirement already satisfied: idna in /Users/rickchakra/Projects/aiug_workshop/venv_new/lib/python3.9/site-packages (from httpx->tavily-python) (3.7)\n",
      "Requirement already satisfied: h11<0.15,>=0.13 in /Users/rickchakra/Projects/aiug_workshop/venv_new/lib/python3.9/site-packages (from httpcore==1.*->httpx->tavily-python) (0.14.0)\n",
      "Requirement already satisfied: charset-normalizer<4,>=2 in /Users/rickchakra/Projects/aiug_workshop/venv_new/lib/python3.9/site-packages (from requests<3,>=2->langchain-community) (3.3.2)\n",
      "Requirement already satisfied: urllib3<3,>=1.21.1 in /Users/rickchakra/Projects/aiug_workshop/venv_new/lib/python3.9/site-packages (from requests<3,>=2->langchain-community) (2.2.2)\n",
      "Requirement already satisfied: regex>=2022.1.18 in /Users/rickchakra/Projects/aiug_workshop/venv_new/lib/python3.9/site-packages (from tiktoken<1,>=0.7->langchain-openai) (2024.5.15)\n",
      "Requirement already satisfied: exceptiongroup>=1.0.2 in /Users/rickchakra/Projects/aiug_workshop/venv_new/lib/python3.9/site-packages (from anyio<5,>=3.5.0->openai<2.0.0,>=1.32.0->langchain-openai) (1.2.2)\n",
      "Requirement already satisfied: jsonpointer>=1.9 in /Users/rickchakra/Projects/aiug_workshop/venv_new/lib/python3.9/site-packages (from jsonpatch<2.0,>=1.33->langchain-core<0.3.0,>=0.2.22->langchain-community) (3.0.0)\n",
      "Requirement already satisfied: annotated-types>=0.4.0 in /Users/rickchakra/Projects/aiug_workshop/venv_new/lib/python3.9/site-packages (from pydantic<3,>=1->langchain<0.3.0,>=0.2.9->langchain-community) (0.7.0)\n",
      "Requirement already satisfied: pydantic-core==2.20.1 in /Users/rickchakra/Projects/aiug_workshop/venv_new/lib/python3.9/site-packages (from pydantic<3,>=1->langchain<0.3.0,>=0.2.9->langchain-community) (2.20.1)\n",
      "Requirement already satisfied: mypy-extensions>=0.3.0 in /Users/rickchakra/Projects/aiug_workshop/venv_new/lib/python3.9/site-packages (from typing-inspect<1,>=0.4.0->dataclasses-json<0.7,>=0.5.7->langchain-community) (1.0.0)\n",
      "Downloading langchain_community-0.2.9-py3-none-any.whl (2.3 MB)\n",
      "\u001b[2K   \u001b[90m━━━━━━━━━━━━━━━━━━━━━━━━━━━━━━━━━━━━━━━━\u001b[0m \u001b[32m2.3/2.3 MB\u001b[0m \u001b[31m9.3 MB/s\u001b[0m eta \u001b[36m0:00:00\u001b[0mta \u001b[36m0:00:01\u001b[0m\n",
      "\u001b[?25hDownloading langgraph-0.1.9-py3-none-any.whl (95 kB)\n",
      "\u001b[2K   \u001b[90m━━━━━━━━━━━━━━━━━━━━━━━━━━━━━━━━━━━━━━━━\u001b[0m \u001b[32m96.0/96.0 kB\u001b[0m \u001b[31m6.3 MB/s\u001b[0m eta \u001b[36m0:00:00\u001b[0m\n",
      "\u001b[?25hDownloading langchain_core-0.2.22-py3-none-any.whl (373 kB)\n",
      "\u001b[2K   \u001b[90m━━━━━━━━━━━━━━━━━━━━━━━━━━━━━━━━━━━━━━━━\u001b[0m \u001b[32m373.5/373.5 kB\u001b[0m \u001b[31m8.7 MB/s\u001b[0m eta \u001b[36m0:00:00\u001b[0mta \u001b[36m0:00:01\u001b[0m\n",
      "\u001b[?25hInstalling collected packages: langchain-core, langgraph, langchain-community\n",
      "  Attempting uninstall: langchain-core\n",
      "    Found existing installation: langchain-core 0.2.21\n",
      "    Uninstalling langchain-core-0.2.21:\n",
      "      Successfully uninstalled langchain-core-0.2.21\n",
      "  Attempting uninstall: langgraph\n",
      "    Found existing installation: langgraph 0.1.8\n",
      "    Uninstalling langgraph-0.1.8:\n",
      "      Successfully uninstalled langgraph-0.1.8\n",
      "  Attempting uninstall: langchain-community\n",
      "    Found existing installation: langchain-community 0.2.7\n",
      "    Uninstalling langchain-community-0.2.7:\n",
      "      Successfully uninstalled langchain-community-0.2.7\n",
      "Successfully installed langchain-community-0.2.9 langchain-core-0.2.22 langgraph-0.1.9\n",
      "Note: you may need to restart the kernel to use updated packages.\n"
     ]
    }
   ],
   "source": [
    "#%pip install -U langchain-community langgraph langchain-openai tavily-python"
   ]
  },
  {
   "cell_type": "code",
   "execution_count": 1,
   "metadata": {},
   "outputs": [],
   "source": [
    "import getpass\n",
    "import os\n",
    "\n",
    "# os.environ[\"LANGCHAIN_TRACING_V2\"] = \"true\"\n",
    "# os.environ[\"LANGCHAIN_API_KEY\"] = getpass.getpass()"
   ]
  },
  {
   "cell_type": "code",
   "execution_count": 2,
   "metadata": {},
   "outputs": [],
   "source": [
    "import getpass\n",
    "import os\n",
    "\n",
    "os.environ[\"TAVILY_API_KEY\"] = getpass.getpass()"
   ]
  },
  {
   "cell_type": "code",
   "execution_count": 3,
   "metadata": {},
   "outputs": [
    {
     "name": "stderr",
     "output_type": "stream",
     "text": [
      "/Users/rickchakra/Projects/aiug_workshop/venv/lib/python3.9/site-packages/urllib3/__init__.py:35: NotOpenSSLWarning: urllib3 v2 only supports OpenSSL 1.1.1+, currently the 'ssl' module is compiled with 'LibreSSL 2.8.3'. See: https://github.com/urllib3/urllib3/issues/3020\n",
      "  warnings.warn(\n"
     ]
    },
    {
     "name": "stdout",
     "output_type": "stream",
     "text": [
      "[{'url': 'https://www.weatherapi.com/', 'content': \"{'location': {'name': 'Los Angeles', 'region': 'California', 'country': 'United States of America', 'lat': 34.05, 'lon': -118.24, 'tz_id': 'America/Los_Angeles', 'localtime_epoch': 1722430136, 'localtime': '2024-07-31 5:48'}, 'current': {'last_updated_epoch': 1722429900, 'last_updated': '2024-07-31 05:45', 'temp_c': 20.1, 'temp_f': 68.3, 'is_day': 0, 'condition': {'text': 'Clear', 'icon': '//cdn.weatherapi.com/weather/64x64/night/113.png', 'code': 1000}, 'wind_mph': 2.2, 'wind_kph': 3.6, 'wind_degree': 193, 'wind_dir': 'SSW', 'pressure_mb': 1012.0, 'pressure_in': 29.89, 'precip_mm': 0.0, 'precip_in': 0.0, 'humidity': 59, 'cloud': 0, 'feelslike_c': 20.1, 'feelslike_f': 68.3, 'windchill_c': 20.1, 'windchill_f': 68.3, 'heatindex_c': 20.2, 'heatindex_f': 68.4, 'dewpoint_c': 11.8, 'dewpoint_f': 53.2, 'vis_km': 10.0, 'vis_miles': 6.0, 'uv': 1.0, 'gust_mph': 3.0, 'gust_kph': 4.8}}\"}, {'url': 'https://forecast.weather.gov/zipcity.php?inputstring=Los Angeles,CA', 'content': 'Los Angeles CA 34.05°N 118.25°W (Elev. 377 ft) Last Update: 9:57 pm PDT Jul 30, 2024. Forecast Valid: 10pm PDT Jul 30, 2024-6pm PDT Aug 6, 2024 . Forecast Discussion . Additional Resources. Radar & Satellite Image. Hourly Weather Forecast. ... Severe Weather ; Current Outlook Maps ; Drought ; Fire Weather ; Fronts/Precipitation Maps ; Current ...'}]\n"
     ]
    }
   ],
   "source": [
    "from langchain_community.tools.tavily_search import TavilySearchResults\n",
    "\n",
    "# define search tool\n",
    "\n",
    "search = TavilySearchResults(max_results=2)\n",
    "search_results = search.invoke(\"what is the weather in Los Angeles\")\n",
    "print(search_results)\n",
    "# If we want, we can create other tools.\n",
    "# Once we have all the tools we want, we can put them in a list that we will reference later.\n",
    "tools = [search]"
   ]
  },
  {
   "cell_type": "markdown",
   "metadata": {},
   "source": [
    "### Bind model with tools"
   ]
  },
  {
   "cell_type": "code",
   "execution_count": 5,
   "metadata": {},
   "outputs": [
    {
     "name": "stdout",
     "output_type": "stream",
     "text": [
      "Note: you may need to restart the kernel to use updated packages.\n"
     ]
    }
   ],
   "source": [
    "#pip install -qU langchain-openai"
   ]
  },
  {
   "cell_type": "code",
   "execution_count": 4,
   "metadata": {},
   "outputs": [],
   "source": [
    "import getpass\n",
    "import os\n",
    "\n",
    "os.environ[\"OPENAI_API_KEY\"] = getpass.getpass()\n",
    "\n",
    "from langchain_openai import ChatOpenAI\n",
    "\n",
    "# initialize model\n",
    "model = ChatOpenAI(model=\"gpt-4o\")"
   ]
  },
  {
   "cell_type": "code",
   "execution_count": 5,
   "metadata": {},
   "outputs": [
    {
     "data": {
      "text/plain": [
       "'Hello! How can I assist you today?'"
      ]
     },
     "execution_count": 5,
     "metadata": {},
     "output_type": "execute_result"
    }
   ],
   "source": [
    "from langchain_core.messages import HumanMessage\n",
    "\n",
    "response = model.invoke([HumanMessage(content=\"hi!\")])\n",
    "response.content"
   ]
  },
  {
   "cell_type": "code",
   "execution_count": 6,
   "metadata": {},
   "outputs": [],
   "source": [
    "# bind tools with model\n",
    "model_with_tools = model.bind_tools(tools)"
   ]
  },
  {
   "cell_type": "code",
   "execution_count": 7,
   "metadata": {},
   "outputs": [
    {
     "name": "stdout",
     "output_type": "stream",
     "text": [
      "ContentString: Hello! How can I assist you today?\n",
      "ToolCalls: []\n"
     ]
    }
   ],
   "source": [
    "# check response of model with search tool (no tool call)\n",
    "response = model_with_tools.invoke([HumanMessage(content=\"Hi!\")])\n",
    "\n",
    "print(f\"ContentString: {response.content}\")\n",
    "print(f\"ToolCalls: {response.tool_calls}\")"
   ]
  },
  {
   "cell_type": "code",
   "execution_count": 15,
   "metadata": {},
   "outputs": [
    {
     "name": "stdout",
     "output_type": "stream",
     "text": [
      "ContentString: \n",
      "ToolCalls: [{'name': 'tavily_search_results_json', 'args': {'query': 'current weather in San Francisco'}, 'id': 'call_vsqUjLdYi76BbggN09chUFAp', 'type': 'tool_call'}]\n"
     ]
    }
   ],
   "source": [
    "# check response of model with search tool (tool call)\n",
    "response = model_with_tools.invoke([HumanMessage(content=\"What's the weather in San Francisco?\")])\n",
    "\n",
    "print(f\"ContentString: {response.content}\")\n",
    "print(f\"ToolCalls: {response.tool_calls}\")"
   ]
  },
  {
   "cell_type": "markdown",
   "metadata": {},
   "source": [
    "### Using a prebuilt react agent with tools"
   ]
  },
  {
   "cell_type": "code",
   "execution_count": 12,
   "metadata": {},
   "outputs": [],
   "source": [
    "from langgraph.prebuilt import create_react_agent\n",
    "\n",
    "#use prebuilt ReAct agent\n",
    "agent_executor = create_react_agent(model, tools)"
   ]
  },
  {
   "cell_type": "code",
   "execution_count": 13,
   "metadata": {},
   "outputs": [
    {
     "data": {
      "text/plain": [
       "[HumanMessage(content='hi!', id='373647a3-9341-4109-aafa-2325929bb133'),\n",
       " AIMessage(content='Hello! How can I assist you today?', response_metadata={'token_usage': {'completion_tokens': 10, 'prompt_tokens': 81, 'total_tokens': 91}, 'model_name': 'gpt-4o-2024-05-13', 'system_fingerprint': 'fp_4e2b2da518', 'finish_reason': 'stop', 'logprobs': None}, id='run-360d85a7-8803-4c6f-a87b-38fdff89fa33-0', usage_metadata={'input_tokens': 81, 'output_tokens': 10, 'total_tokens': 91})]"
      ]
     },
     "execution_count": 13,
     "metadata": {},
     "output_type": "execute_result"
    }
   ],
   "source": [
    "# test agent response (no tool call)\n",
    "response = agent_executor.invoke({\"messages\": [HumanMessage(content=\"hi!\")]})\n",
    "\n",
    "response[\"messages\"]"
   ]
  },
  {
   "cell_type": "code",
   "execution_count": 12,
   "metadata": {},
   "outputs": [
    {
     "data": {
      "text/plain": [
       "[HumanMessage(content=\"What's the weather in Los Angeles?\", id='1ef3608b-a69e-47ed-9ff1-c09f188fe0ee'),\n",
       " AIMessage(content='', additional_kwargs={'tool_calls': [{'id': 'call_p60p35lVmmyE4qn6JbZsZbaI', 'function': {'arguments': '{\"query\":\"current weather in Los Angeles\"}', 'name': 'tavily_search_results_json'}, 'type': 'function'}]}, response_metadata={'token_usage': {'completion_tokens': 22, 'prompt_tokens': 86, 'total_tokens': 108}, 'model_name': 'gpt-4o-2024-05-13', 'system_fingerprint': 'fp_400f27fa1f', 'finish_reason': 'tool_calls', 'logprobs': None}, id='run-e2604cff-b551-4e91-bb42-5bd27f2b665b-0', tool_calls=[{'name': 'tavily_search_results_json', 'args': {'query': 'current weather in Los Angeles'}, 'id': 'call_p60p35lVmmyE4qn6JbZsZbaI', 'type': 'tool_call'}], usage_metadata={'input_tokens': 86, 'output_tokens': 22, 'total_tokens': 108}),\n",
       " ToolMessage(content='[{\"url\": \"https://www.weatherapi.com/\", \"content\": \"{\\'location\\': {\\'name\\': \\'Los Angeles\\', \\'region\\': \\'California\\', \\'country\\': \\'United States of America\\', \\'lat\\': 34.05, \\'lon\\': -118.24, \\'tz_id\\': \\'America/Los_Angeles\\', \\'localtime_epoch\\': 1721733429, \\'localtime\\': \\'2024-07-23 4:17\\'}, \\'current\\': {\\'last_updated_epoch\\': 1721733300, \\'last_updated\\': \\'2024-07-23 04:15\\', \\'temp_c\\': 23.6, \\'temp_f\\': 74.6, \\'is_day\\': 0, \\'condition\\': {\\'text\\': \\'Clear\\', \\'icon\\': \\'//cdn.weatherapi.com/weather/64x64/night/113.png\\', \\'code\\': 1000}, \\'wind_mph\\': 4.5, \\'wind_kph\\': 7.2, \\'wind_degree\\': 228, \\'wind_dir\\': \\'SW\\', \\'pressure_mb\\': 1010.0, \\'pressure_in\\': 29.82, \\'precip_mm\\': 0.0, \\'precip_in\\': 0.0, \\'humidity\\': 57, \\'cloud\\': 12, \\'feelslike_c\\': 25.2, \\'feelslike_f\\': 77.4, \\'windchill_c\\': 23.6, \\'windchill_f\\': 74.6, \\'heatindex_c\\': 25.2, \\'heatindex_f\\': 77.4, \\'dewpoint_c\\': 14.8, \\'dewpoint_f\\': 58.7, \\'vis_km\\': 10.0, \\'vis_miles\\': 6.0, \\'uv\\': 1.0, \\'gust_mph\\': 6.4, \\'gust_kph\\': 10.4}}\"}, {\"url\": \"https://www.wunderground.com/hourly/us/ca/los-angeles/90002/date/2024-07-23\", \"content\": \"Weather Underground provides local & long-range weather forecasts, weatherreports, maps & tropical weather conditions for the Los Angeles area. ... Tuesday 07/23 Hourly for Tomorrow, Tue 07/23\"}]', name='tavily_search_results_json', id='d747c220-0580-4e56-bb1a-e9db0c0dada8', tool_call_id='call_p60p35lVmmyE4qn6JbZsZbaI'),\n",
       " AIMessage(content=\"The current weather in Los Angeles is as follows:\\n\\n- **Temperature**: 23.6°C (74.6°F)\\n- **Condition**: Clear\\n- **Wind**: 4.5 mph (7.2 kph) from the southwest\\n- **Humidity**: 57%\\n- **Visibility**: 10 km (6 miles)\\n- **Pressure**: 1010.0 mb\\n- **Feels Like**: 25.2°C (77.4°F)\\n\\n![Weather Icon](//cdn.weatherapi.com/weather/64x64/night/113.png)\\n\\nIt's a clear night in Los Angeles.\", response_metadata={'token_usage': {'completion_tokens': 131, 'prompt_tokens': 600, 'total_tokens': 731}, 'model_name': 'gpt-4o-2024-05-13', 'system_fingerprint': 'fp_c4e5b6fa31', 'finish_reason': 'stop', 'logprobs': None}, id='run-0f95a9eb-7a6b-4d12-8792-5c4f4fb6da2c-0', usage_metadata={'input_tokens': 600, 'output_tokens': 131, 'total_tokens': 731})]"
      ]
     },
     "execution_count": 12,
     "metadata": {},
     "output_type": "execute_result"
    }
   ],
   "source": [
    "# test agent response (tool call)\n",
    "response = agent_executor.invoke(\n",
    "    {\"messages\": [HumanMessage(content=\"What's the weather in San Francisco?\")]}\n",
    ")\n",
    "response[\"messages\"]"
   ]
  }
 ],
 "metadata": {
  "kernelspec": {
   "display_name": "venv",
   "language": "python",
   "name": "python3"
  },
  "language_info": {
   "codemirror_mode": {
    "name": "ipython",
    "version": 3
   },
   "file_extension": ".py",
   "mimetype": "text/x-python",
   "name": "python",
   "nbconvert_exporter": "python",
   "pygments_lexer": "ipython3",
   "version": "3.9.6"
  }
 },
 "nbformat": 4,
 "nbformat_minor": 2
}
